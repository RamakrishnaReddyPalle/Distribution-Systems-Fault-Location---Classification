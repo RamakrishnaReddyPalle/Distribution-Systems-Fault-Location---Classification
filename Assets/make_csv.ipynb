{
 "cells": [
  {
   "cell_type": "code",
   "execution_count": 1,
   "metadata": {},
   "outputs": [],
   "source": [
    "import csv\n",
    "import numpy as np"
   ]
  },
  {
   "cell_type": "code",
   "execution_count": 212,
   "metadata": {},
   "outputs": [],
   "source": [
    "time_steps = np.arange(0, 3.004, 0.004)\n",
    "num_samples = len(time_steps)\n",
    "\n",
    "\n",
    "fault_type = \"No Fault\"\n",
    "bus_number = 680\n",
    "fault_location = bus_number"
   ]
  },
  {
   "cell_type": "code",
   "execution_count": 213,
   "metadata": {},
   "outputs": [],
   "source": [
    "no_fault_currents_1 = (-208.5, 144.9) \n",
    "no_fault_currents_2 = (230, 106.6)  \n",
    "no_fault_currents_3 = (-21.48, -251.5)\n",
    "\n",
    "no_fault_voltages_1 = (3253, -356.8) \n",
    "no_fault_voltages_2 = (-1969, -2886)  \n",
    "no_fault_voltages_3 = (-1369, 2949)\n",
    "\n",
    "# No fault values for each phase\n",
    "fault_currents_1 = (-208.5, 144.9) \n",
    "fault_currents_2 = (230, 106.6)  \n",
    "fault_currents_3 = (-21.48, -251.5)\n",
    "\n",
    "fault_voltages_1 = (3253, -356.8) \n",
    "fault_voltages_2 = (-1969, -2886)  \n",
    "fault_voltages_3 = (-1369, 2949)"
   ]
  },
  {
   "cell_type": "code",
   "execution_count": 214,
   "metadata": {},
   "outputs": [],
   "source": [
    "data = []\n",
    "\n",
    "for time in time_steps:\n",
    "    if 0.5 <= time <= 1:  # Time range for fault\n",
    "        voltages_1 = f\"=COMPLEX({fault_voltages_1[0]}, {fault_voltages_1[1]})\"\n",
    "        voltages_2 = f\"=COMPLEX({fault_voltages_2[0]}, {fault_voltages_2[1]})\"\n",
    "        voltages_3 = f\"=COMPLEX({fault_voltages_3[0]}, {fault_voltages_3[1]})\"\n",
    "        currents_1 = f\"=COMPLEX({fault_currents_1[0]}, {fault_currents_1[1]})\"\n",
    "        currents_2 = f\"=COMPLEX({fault_currents_2[0]}, {fault_currents_2[1]})\"\n",
    "        currents_3 = f\"=COMPLEX({fault_currents_3[0]}, {fault_currents_3[1]})\"\n",
    "    else:  # No fault values for the rest of the time\n",
    "        voltages_1 = f\"=COMPLEX({no_fault_voltages_1[0]}, {no_fault_voltages_1[1]})\"\n",
    "        voltages_2 = f\"=COMPLEX({no_fault_voltages_2[0]}, {no_fault_voltages_2[1]})\"\n",
    "        voltages_3 = f\"=COMPLEX({no_fault_voltages_3[0]}, {no_fault_voltages_3[1]})\"\n",
    "        currents_1 = f\"=COMPLEX({no_fault_currents_1[0]}, {no_fault_currents_1[1]})\"\n",
    "        currents_2 = f\"=COMPLEX({no_fault_currents_2[0]}, {no_fault_currents_2[1]})\"\n",
    "        currents_3 = f\"=COMPLEX({no_fault_currents_3[0]}, {no_fault_currents_3[1]})\"\n",
    "    \n",
    "    # Append each row\n",
    "    data.append([\n",
    "        time,\n",
    "        voltages_1, voltages_2, voltages_3,\n",
    "        currents_1, currents_2, currents_3,\n",
    "        fault_type,\n",
    "        fault_location\n",
    "    ])\n"
   ]
  },
  {
   "cell_type": "code",
   "execution_count": 215,
   "metadata": {},
   "outputs": [
    {
     "name": "stdout",
     "output_type": "stream",
     "text": [
      "CSV file 'Data/Fault_Data_5/NoFault/Bus_680.csv' created successfully!\n"
     ]
    }
   ],
   "source": [
    "# Write the data to a CSV file with the name Bus_(number).csv\n",
    "filename = f'Data/Fault_Data_5/NoFault/Bus_{bus_number}.csv'\n",
    "header = [\n",
    "    \"Time\", \"FaultyBusVoltages_1\", \"FaultyBusVoltages_2\", \"FaultyBusVoltages_3\",\n",
    "    \"FaultyBusCurrents_1\", \"FaultyBusCurrents_2\", \"FaultyBusCurrents_3\", \n",
    "    \"FaultType\", \"FaultLocation\"\n",
    "]\n",
    "\n",
    "with open(filename, 'w', newline='') as f:\n",
    "    writer = csv.writer(f)\n",
    "    writer.writerow(header)\n",
    "    writer.writerows(data)\n",
    "\n",
    "print(f\"CSV file '{filename}' created successfully!\")"
   ]
  }
 ],
 "metadata": {
  "kernelspec": {
   "display_name": "faultDSE",
   "language": "python",
   "name": "python3"
  },
  "language_info": {
   "codemirror_mode": {
    "name": "ipython",
    "version": 3
   },
   "file_extension": ".py",
   "mimetype": "text/x-python",
   "name": "python",
   "nbconvert_exporter": "python",
   "pygments_lexer": "ipython3",
   "version": "3.12.7"
  }
 },
 "nbformat": 4,
 "nbformat_minor": 2
}
